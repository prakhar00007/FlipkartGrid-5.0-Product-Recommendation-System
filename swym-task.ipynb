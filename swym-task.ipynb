{
 "cells": [
  {
   "cell_type": "markdown",
   "metadata": {},
   "source": [
    "## Importing Necessary Libraries"
   ]
  },
  {
   "cell_type": "code",
   "execution_count": 1,
   "metadata": {
    "execution": {
     "iopub.execute_input": "2023-08-08T15:09:53.688784Z",
     "iopub.status.busy": "2023-08-08T15:09:53.687804Z",
     "iopub.status.idle": "2023-08-08T15:09:55.397885Z",
     "shell.execute_reply": "2023-08-08T15:09:55.396522Z",
     "shell.execute_reply.started": "2023-08-08T15:09:53.688730Z"
    }
   },
   "outputs": [],
   "source": [
    "import pandas as pd\n",
    "import numpy as np\n",
    "import seaborn as sns\n",
    "import matplotlib.pyplot as plt\n",
    "import string\n",
    "import re\n",
    "%matplotlib inline"
   ]
  },
  {
   "cell_type": "markdown",
   "metadata": {},
   "source": [
    "## Reading Data"
   ]
  },
  {
   "cell_type": "code",
   "execution_count": 2,
   "metadata": {
    "execution": {
     "iopub.execute_input": "2023-08-08T15:09:55.399840Z",
     "iopub.status.busy": "2023-08-08T15:09:55.399425Z",
     "iopub.status.idle": "2023-08-08T15:09:56.460222Z",
     "shell.execute_reply": "2023-08-08T15:09:56.458869Z",
     "shell.execute_reply.started": "2023-08-08T15:09:55.399807Z"
    }
   },
   "outputs": [],
   "source": [
    "df=pd.read_csv(\"C:/Users/HP/Desktop/grid/flipkart_com-ecommerce_sample.csv\", na_values=[\"No rating available\"])"
   ]
  },
  {
   "cell_type": "code",
   "execution_count": 3,
   "metadata": {
    "execution": {
     "iopub.execute_input": "2023-08-08T15:09:56.463565Z",
     "iopub.status.busy": "2023-08-08T15:09:56.463122Z",
     "iopub.status.idle": "2023-08-08T15:09:56.501895Z",
     "shell.execute_reply": "2023-08-08T15:09:56.500477Z",
     "shell.execute_reply.started": "2023-08-08T15:09:56.463528Z"
    }
   },
   "outputs": [
    {
     "data": {
      "text/html": [
       "<div>\n",
       "<style scoped>\n",
       "    .dataframe tbody tr th:only-of-type {\n",
       "        vertical-align: middle;\n",
       "    }\n",
       "\n",
       "    .dataframe tbody tr th {\n",
       "        vertical-align: top;\n",
       "    }\n",
       "\n",
       "    .dataframe thead th {\n",
       "        text-align: right;\n",
       "    }\n",
       "</style>\n",
       "<table border=\"1\" class=\"dataframe\">\n",
       "  <thead>\n",
       "    <tr style=\"text-align: right;\">\n",
       "      <th></th>\n",
       "      <th>uniq_id</th>\n",
       "      <th>crawl_timestamp</th>\n",
       "      <th>product_url</th>\n",
       "      <th>product_name</th>\n",
       "      <th>product_category_tree</th>\n",
       "      <th>pid</th>\n",
       "      <th>retail_price</th>\n",
       "      <th>discounted_price</th>\n",
       "      <th>image</th>\n",
       "      <th>is_FK_Advantage_product</th>\n",
       "      <th>description</th>\n",
       "      <th>product_rating</th>\n",
       "      <th>overall_rating</th>\n",
       "      <th>brand</th>\n",
       "      <th>product_specifications</th>\n",
       "    </tr>\n",
       "  </thead>\n",
       "  <tbody>\n",
       "    <tr>\n",
       "      <th>0</th>\n",
       "      <td>c2d766ca982eca8304150849735ffef9</td>\n",
       "      <td>2016-03-25 22:59:23 +0000</td>\n",
       "      <td>http://www.flipkart.com/alisha-solid-women-s-c...</td>\n",
       "      <td>Alisha Solid Women's Cycling Shorts</td>\n",
       "      <td>[\"Clothing &gt;&gt; Women's Clothing &gt;&gt; Lingerie, Sl...</td>\n",
       "      <td>SRTEH2FF9KEDEFGF</td>\n",
       "      <td>999.0</td>\n",
       "      <td>379.0</td>\n",
       "      <td>[\"http://img5a.flixcart.com/image/short/u/4/a/...</td>\n",
       "      <td>False</td>\n",
       "      <td>Key Features of Alisha Solid Women's Cycling S...</td>\n",
       "      <td>NaN</td>\n",
       "      <td>NaN</td>\n",
       "      <td>Alisha</td>\n",
       "      <td>{\"product_specification\"=&gt;[{\"key\"=&gt;\"Number of ...</td>\n",
       "    </tr>\n",
       "    <tr>\n",
       "      <th>1</th>\n",
       "      <td>7f7036a6d550aaa89d34c77bd39a5e48</td>\n",
       "      <td>2016-03-25 22:59:23 +0000</td>\n",
       "      <td>http://www.flipkart.com/fabhomedecor-fabric-do...</td>\n",
       "      <td>FabHomeDecor Fabric Double Sofa Bed</td>\n",
       "      <td>[\"Furniture &gt;&gt; Living Room Furniture &gt;&gt; Sofa B...</td>\n",
       "      <td>SBEEH3QGU7MFYJFY</td>\n",
       "      <td>32157.0</td>\n",
       "      <td>22646.0</td>\n",
       "      <td>[\"http://img6a.flixcart.com/image/sofa-bed/j/f...</td>\n",
       "      <td>False</td>\n",
       "      <td>FabHomeDecor Fabric Double Sofa Bed (Finish Co...</td>\n",
       "      <td>NaN</td>\n",
       "      <td>NaN</td>\n",
       "      <td>FabHomeDecor</td>\n",
       "      <td>{\"product_specification\"=&gt;[{\"key\"=&gt;\"Installati...</td>\n",
       "    </tr>\n",
       "    <tr>\n",
       "      <th>2</th>\n",
       "      <td>f449ec65dcbc041b6ae5e6a32717d01b</td>\n",
       "      <td>2016-03-25 22:59:23 +0000</td>\n",
       "      <td>http://www.flipkart.com/aw-bellies/p/itmeh4grg...</td>\n",
       "      <td>AW Bellies</td>\n",
       "      <td>[\"Footwear &gt;&gt; Women's Footwear &gt;&gt; Ballerinas &gt;...</td>\n",
       "      <td>SHOEH4GRSUBJGZXE</td>\n",
       "      <td>999.0</td>\n",
       "      <td>499.0</td>\n",
       "      <td>[\"http://img5a.flixcart.com/image/shoe/7/z/z/r...</td>\n",
       "      <td>False</td>\n",
       "      <td>Key Features of AW Bellies Sandals Wedges Heel...</td>\n",
       "      <td>NaN</td>\n",
       "      <td>NaN</td>\n",
       "      <td>AW</td>\n",
       "      <td>{\"product_specification\"=&gt;[{\"key\"=&gt;\"Ideal For\"...</td>\n",
       "    </tr>\n",
       "    <tr>\n",
       "      <th>3</th>\n",
       "      <td>0973b37acd0c664e3de26e97e5571454</td>\n",
       "      <td>2016-03-25 22:59:23 +0000</td>\n",
       "      <td>http://www.flipkart.com/alisha-solid-women-s-c...</td>\n",
       "      <td>Alisha Solid Women's Cycling Shorts</td>\n",
       "      <td>[\"Clothing &gt;&gt; Women's Clothing &gt;&gt; Lingerie, Sl...</td>\n",
       "      <td>SRTEH2F6HUZMQ6SJ</td>\n",
       "      <td>699.0</td>\n",
       "      <td>267.0</td>\n",
       "      <td>[\"http://img5a.flixcart.com/image/short/6/2/h/...</td>\n",
       "      <td>False</td>\n",
       "      <td>Key Features of Alisha Solid Women's Cycling S...</td>\n",
       "      <td>NaN</td>\n",
       "      <td>NaN</td>\n",
       "      <td>Alisha</td>\n",
       "      <td>{\"product_specification\"=&gt;[{\"key\"=&gt;\"Number of ...</td>\n",
       "    </tr>\n",
       "    <tr>\n",
       "      <th>4</th>\n",
       "      <td>bc940ea42ee6bef5ac7cea3fb5cfbee7</td>\n",
       "      <td>2016-03-25 22:59:23 +0000</td>\n",
       "      <td>http://www.flipkart.com/sicons-all-purpose-arn...</td>\n",
       "      <td>Sicons All Purpose Arnica Dog Shampoo</td>\n",
       "      <td>[\"Pet Supplies &gt;&gt; Grooming &gt;&gt; Skin &amp; Coat Care...</td>\n",
       "      <td>PSOEH3ZYDMSYARJ5</td>\n",
       "      <td>220.0</td>\n",
       "      <td>210.0</td>\n",
       "      <td>[\"http://img5a.flixcart.com/image/pet-shampoo/...</td>\n",
       "      <td>False</td>\n",
       "      <td>Specifications of Sicons All Purpose Arnica Do...</td>\n",
       "      <td>NaN</td>\n",
       "      <td>NaN</td>\n",
       "      <td>Sicons</td>\n",
       "      <td>{\"product_specification\"=&gt;[{\"key\"=&gt;\"Pet Type\",...</td>\n",
       "    </tr>\n",
       "  </tbody>\n",
       "</table>\n",
       "</div>"
      ],
      "text/plain": [
       "                            uniq_id            crawl_timestamp  \\\n",
       "0  c2d766ca982eca8304150849735ffef9  2016-03-25 22:59:23 +0000   \n",
       "1  7f7036a6d550aaa89d34c77bd39a5e48  2016-03-25 22:59:23 +0000   \n",
       "2  f449ec65dcbc041b6ae5e6a32717d01b  2016-03-25 22:59:23 +0000   \n",
       "3  0973b37acd0c664e3de26e97e5571454  2016-03-25 22:59:23 +0000   \n",
       "4  bc940ea42ee6bef5ac7cea3fb5cfbee7  2016-03-25 22:59:23 +0000   \n",
       "\n",
       "                                         product_url  \\\n",
       "0  http://www.flipkart.com/alisha-solid-women-s-c...   \n",
       "1  http://www.flipkart.com/fabhomedecor-fabric-do...   \n",
       "2  http://www.flipkart.com/aw-bellies/p/itmeh4grg...   \n",
       "3  http://www.flipkart.com/alisha-solid-women-s-c...   \n",
       "4  http://www.flipkart.com/sicons-all-purpose-arn...   \n",
       "\n",
       "                            product_name  \\\n",
       "0    Alisha Solid Women's Cycling Shorts   \n",
       "1    FabHomeDecor Fabric Double Sofa Bed   \n",
       "2                             AW Bellies   \n",
       "3    Alisha Solid Women's Cycling Shorts   \n",
       "4  Sicons All Purpose Arnica Dog Shampoo   \n",
       "\n",
       "                               product_category_tree               pid  \\\n",
       "0  [\"Clothing >> Women's Clothing >> Lingerie, Sl...  SRTEH2FF9KEDEFGF   \n",
       "1  [\"Furniture >> Living Room Furniture >> Sofa B...  SBEEH3QGU7MFYJFY   \n",
       "2  [\"Footwear >> Women's Footwear >> Ballerinas >...  SHOEH4GRSUBJGZXE   \n",
       "3  [\"Clothing >> Women's Clothing >> Lingerie, Sl...  SRTEH2F6HUZMQ6SJ   \n",
       "4  [\"Pet Supplies >> Grooming >> Skin & Coat Care...  PSOEH3ZYDMSYARJ5   \n",
       "\n",
       "   retail_price  discounted_price  \\\n",
       "0         999.0             379.0   \n",
       "1       32157.0           22646.0   \n",
       "2         999.0             499.0   \n",
       "3         699.0             267.0   \n",
       "4         220.0             210.0   \n",
       "\n",
       "                                               image  is_FK_Advantage_product  \\\n",
       "0  [\"http://img5a.flixcart.com/image/short/u/4/a/...                    False   \n",
       "1  [\"http://img6a.flixcart.com/image/sofa-bed/j/f...                    False   \n",
       "2  [\"http://img5a.flixcart.com/image/shoe/7/z/z/r...                    False   \n",
       "3  [\"http://img5a.flixcart.com/image/short/6/2/h/...                    False   \n",
       "4  [\"http://img5a.flixcart.com/image/pet-shampoo/...                    False   \n",
       "\n",
       "                                         description  product_rating  \\\n",
       "0  Key Features of Alisha Solid Women's Cycling S...             NaN   \n",
       "1  FabHomeDecor Fabric Double Sofa Bed (Finish Co...             NaN   \n",
       "2  Key Features of AW Bellies Sandals Wedges Heel...             NaN   \n",
       "3  Key Features of Alisha Solid Women's Cycling S...             NaN   \n",
       "4  Specifications of Sicons All Purpose Arnica Do...             NaN   \n",
       "\n",
       "   overall_rating         brand  \\\n",
       "0             NaN        Alisha   \n",
       "1             NaN  FabHomeDecor   \n",
       "2             NaN            AW   \n",
       "3             NaN        Alisha   \n",
       "4             NaN        Sicons   \n",
       "\n",
       "                              product_specifications  \n",
       "0  {\"product_specification\"=>[{\"key\"=>\"Number of ...  \n",
       "1  {\"product_specification\"=>[{\"key\"=>\"Installati...  \n",
       "2  {\"product_specification\"=>[{\"key\"=>\"Ideal For\"...  \n",
       "3  {\"product_specification\"=>[{\"key\"=>\"Number of ...  \n",
       "4  {\"product_specification\"=>[{\"key\"=>\"Pet Type\",...  "
      ]
     },
     "execution_count": 3,
     "metadata": {},
     "output_type": "execute_result"
    }
   ],
   "source": [
    "df.head()"
   ]
  },
  {
   "cell_type": "code",
   "execution_count": 4,
   "metadata": {
    "execution": {
     "iopub.execute_input": "2023-08-08T15:09:56.504380Z",
     "iopub.status.busy": "2023-08-08T15:09:56.503537Z",
     "iopub.status.idle": "2023-08-08T15:09:56.600992Z",
     "shell.execute_reply": "2023-08-08T15:09:56.599791Z",
     "shell.execute_reply.started": "2023-08-08T15:09:56.504341Z"
    }
   },
   "outputs": [
    {
     "name": "stdout",
     "output_type": "stream",
     "text": [
      "<class 'pandas.core.frame.DataFrame'>\n",
      "RangeIndex: 20000 entries, 0 to 19999\n",
      "Data columns (total 15 columns):\n",
      " #   Column                   Non-Null Count  Dtype  \n",
      "---  ------                   --------------  -----  \n",
      " 0   uniq_id                  20000 non-null  object \n",
      " 1   crawl_timestamp          20000 non-null  object \n",
      " 2   product_url              20000 non-null  object \n",
      " 3   product_name             20000 non-null  object \n",
      " 4   product_category_tree    20000 non-null  object \n",
      " 5   pid                      20000 non-null  object \n",
      " 6   retail_price             19922 non-null  float64\n",
      " 7   discounted_price         19922 non-null  float64\n",
      " 8   image                    19997 non-null  object \n",
      " 9   is_FK_Advantage_product  20000 non-null  bool   \n",
      " 10  description              19998 non-null  object \n",
      " 11  product_rating           1849 non-null   float64\n",
      " 12  overall_rating           1849 non-null   float64\n",
      " 13  brand                    14136 non-null  object \n",
      " 14  product_specifications   19986 non-null  object \n",
      "dtypes: bool(1), float64(4), object(10)\n",
      "memory usage: 2.2+ MB\n"
     ]
    }
   ],
   "source": [
    "df.info()"
   ]
  },
  {
   "cell_type": "markdown",
   "metadata": {},
   "source": [
    "I have 3 choices of recommender system\n",
    "1. Content Based - Recommends products based on Product Similarity\n",
    "2. Collaborative Filtering - Recommends products based on User Preferences Similarities\n",
    "3. Reinforcement Learning - Recommends product by going through purchase history of user by exploration and exploitation of different item recommendations and develops its learning.\n",
    "\n",
    "Based on the given problem statement, we need to see user's preference / product and recommend similar products.\n",
    "\n",
    "So the most suitable one here would be **Content Based Recommender system**"
   ]
  },
  {
   "cell_type": "markdown",
   "metadata": {},
   "source": [
    "## Data Exploration"
   ]
  },
  {
   "cell_type": "code",
   "execution_count": 5,
   "metadata": {
    "execution": {
     "iopub.execute_input": "2023-08-08T15:09:56.603882Z",
     "iopub.status.busy": "2023-08-08T15:09:56.602673Z",
     "iopub.status.idle": "2023-08-08T15:09:56.614745Z",
     "shell.execute_reply": "2023-08-08T15:09:56.613275Z",
     "shell.execute_reply.started": "2023-08-08T15:09:56.603838Z"
    }
   },
   "outputs": [
    {
     "data": {
      "text/plain": [
       "3499"
      ]
     },
     "execution_count": 5,
     "metadata": {},
     "output_type": "execute_result"
    }
   ],
   "source": [
    "df.brand.nunique()"
   ]
  },
  {
   "cell_type": "code",
   "execution_count": 6,
   "metadata": {
    "execution": {
     "iopub.execute_input": "2023-08-08T15:09:56.616695Z",
     "iopub.status.busy": "2023-08-08T15:09:56.616206Z",
     "iopub.status.idle": "2023-08-08T15:09:56.638085Z",
     "shell.execute_reply": "2023-08-08T15:09:56.636307Z",
     "shell.execute_reply.started": "2023-08-08T15:09:56.616652Z"
    }
   },
   "outputs": [
    {
     "data": {
      "text/plain": [
       "6466"
      ]
     },
     "execution_count": 6,
     "metadata": {},
     "output_type": "execute_result"
    }
   ],
   "source": [
    "df.product_category_tree.nunique()"
   ]
  },
  {
   "cell_type": "code",
   "execution_count": 7,
   "metadata": {
    "execution": {
     "iopub.execute_input": "2023-08-08T15:09:56.640289Z",
     "iopub.status.busy": "2023-08-08T15:09:56.639792Z",
     "iopub.status.idle": "2023-08-08T15:09:56.660289Z",
     "shell.execute_reply": "2023-08-08T15:09:56.658527Z",
     "shell.execute_reply.started": "2023-08-08T15:09:56.640245Z"
    }
   },
   "outputs": [
    {
     "data": {
      "text/plain": [
       "count     19922.000000\n",
       "mean       2979.206104\n",
       "std        9009.639341\n",
       "min          35.000000\n",
       "25%         666.000000\n",
       "50%        1040.000000\n",
       "75%        1999.000000\n",
       "max      571230.000000\n",
       "Name: retail_price, dtype: float64"
      ]
     },
     "execution_count": 7,
     "metadata": {},
     "output_type": "execute_result"
    }
   ],
   "source": [
    "df.retail_price.describe()"
   ]
  },
  {
   "cell_type": "code",
   "execution_count": 8,
   "metadata": {
    "execution": {
     "iopub.execute_input": "2023-08-08T15:09:56.666020Z",
     "iopub.status.busy": "2023-08-08T15:09:56.664952Z",
     "iopub.status.idle": "2023-08-08T15:09:56.679690Z",
     "shell.execute_reply": "2023-08-08T15:09:56.678416Z",
     "shell.execute_reply.started": "2023-08-08T15:09:56.665970Z"
    }
   },
   "outputs": [
    {
     "data": {
      "text/plain": [
       "count     19922.000000\n",
       "mean       1973.401767\n",
       "std        7333.586040\n",
       "min          35.000000\n",
       "25%         350.000000\n",
       "50%         550.000000\n",
       "75%         999.000000\n",
       "max      571230.000000\n",
       "Name: discounted_price, dtype: float64"
      ]
     },
     "execution_count": 8,
     "metadata": {},
     "output_type": "execute_result"
    }
   ],
   "source": [
    "df.discounted_price.describe()"
   ]
  },
  {
   "cell_type": "markdown",
   "metadata": {},
   "source": [
    "The discounts are pretty high"
   ]
  },
  {
   "cell_type": "markdown",
   "metadata": {},
   "source": [
    "## Data Processing"
   ]
  },
  {
   "cell_type": "code",
   "execution_count": 9,
   "metadata": {
    "execution": {
     "iopub.execute_input": "2023-08-08T15:09:56.681679Z",
     "iopub.status.busy": "2023-08-08T15:09:56.681261Z",
     "iopub.status.idle": "2023-08-08T15:09:56.690081Z",
     "shell.execute_reply": "2023-08-08T15:09:56.688685Z",
     "shell.execute_reply.started": "2023-08-08T15:09:56.681647Z"
    }
   },
   "outputs": [
    {
     "data": {
      "text/plain": [
       "'[\"Clothing >> Women\\'s Clothing >> Lingerie, Sleep & Swimwear >> Shorts >> Alisha Shorts >> Alisha Solid Women\\'s Cycling Shorts\"]'"
      ]
     },
     "execution_count": 9,
     "metadata": {},
     "output_type": "execute_result"
    }
   ],
   "source": [
    "df.product_category_tree[0]"
   ]
  },
  {
   "cell_type": "code",
   "execution_count": 10,
   "metadata": {
    "execution": {
     "iopub.execute_input": "2023-08-08T15:09:56.692159Z",
     "iopub.status.busy": "2023-08-08T15:09:56.691717Z",
     "iopub.status.idle": "2023-08-08T15:09:56.752912Z",
     "shell.execute_reply": "2023-08-08T15:09:56.751966Z",
     "shell.execute_reply.started": "2023-08-08T15:09:56.692125Z"
    }
   },
   "outputs": [],
   "source": [
    "df['product_category_tree']=df['product_category_tree'].map(lambda x:x.strip('[]'))\n",
    "df['product_category_tree']=df['product_category_tree'].map(lambda x:x.strip('\"'))\n",
    "df['product_category_tree']=df['product_category_tree'].map(lambda x:x.split('>>'))"
   ]
  },
  {
   "cell_type": "code",
   "execution_count": 11,
   "metadata": {
    "execution": {
     "iopub.execute_input": "2023-08-08T15:09:56.755198Z",
     "iopub.status.busy": "2023-08-08T15:09:56.754471Z",
     "iopub.status.idle": "2023-08-08T15:09:56.762956Z",
     "shell.execute_reply": "2023-08-08T15:09:56.761580Z",
     "shell.execute_reply.started": "2023-08-08T15:09:56.755143Z"
    }
   },
   "outputs": [
    {
     "data": {
      "text/plain": [
       "['Clothing ',\n",
       " \" Women's Clothing \",\n",
       " ' Lingerie, Sleep & Swimwear ',\n",
       " ' Shorts ',\n",
       " ' Alisha Shorts ',\n",
       " \" Alisha Solid Women's Cycling Shorts\"]"
      ]
     },
     "execution_count": 11,
     "metadata": {},
     "output_type": "execute_result"
    }
   ],
   "source": [
    "df.product_category_tree[0]"
   ]
  },
  {
   "cell_type": "code",
   "execution_count": 12,
   "metadata": {
    "execution": {
     "iopub.execute_input": "2023-08-08T15:09:56.765186Z",
     "iopub.status.busy": "2023-08-08T15:09:56.764737Z",
     "iopub.status.idle": "2023-08-08T15:09:56.795994Z",
     "shell.execute_reply": "2023-08-08T15:09:56.794495Z",
     "shell.execute_reply.started": "2023-08-08T15:09:56.765152Z"
    }
   },
   "outputs": [
    {
     "data": {
      "text/html": [
       "<div>\n",
       "<style scoped>\n",
       "    .dataframe tbody tr th:only-of-type {\n",
       "        vertical-align: middle;\n",
       "    }\n",
       "\n",
       "    .dataframe tbody tr th {\n",
       "        vertical-align: top;\n",
       "    }\n",
       "\n",
       "    .dataframe thead th {\n",
       "        text-align: right;\n",
       "    }\n",
       "</style>\n",
       "<table border=\"1\" class=\"dataframe\">\n",
       "  <thead>\n",
       "    <tr style=\"text-align: right;\">\n",
       "      <th></th>\n",
       "      <th>uniq_id</th>\n",
       "      <th>crawl_timestamp</th>\n",
       "      <th>product_url</th>\n",
       "      <th>product_name</th>\n",
       "      <th>product_category_tree</th>\n",
       "      <th>pid</th>\n",
       "      <th>retail_price</th>\n",
       "      <th>discounted_price</th>\n",
       "      <th>image</th>\n",
       "      <th>is_FK_Advantage_product</th>\n",
       "      <th>description</th>\n",
       "      <th>product_rating</th>\n",
       "      <th>overall_rating</th>\n",
       "      <th>brand</th>\n",
       "      <th>product_specifications</th>\n",
       "    </tr>\n",
       "  </thead>\n",
       "  <tbody>\n",
       "    <tr>\n",
       "      <th>0</th>\n",
       "      <td>c2d766ca982eca8304150849735ffef9</td>\n",
       "      <td>2016-03-25 22:59:23 +0000</td>\n",
       "      <td>http://www.flipkart.com/alisha-solid-women-s-c...</td>\n",
       "      <td>Alisha Solid Women's Cycling Shorts</td>\n",
       "      <td>[Clothing ,  Women's Clothing ,  Lingerie, Sle...</td>\n",
       "      <td>SRTEH2FF9KEDEFGF</td>\n",
       "      <td>999.0</td>\n",
       "      <td>379.0</td>\n",
       "      <td>[\"http://img5a.flixcart.com/image/short/u/4/a/...</td>\n",
       "      <td>False</td>\n",
       "      <td>Key Features of Alisha Solid Women's Cycling S...</td>\n",
       "      <td>NaN</td>\n",
       "      <td>NaN</td>\n",
       "      <td>Alisha</td>\n",
       "      <td>{\"product_specification\"=&gt;[{\"key\"=&gt;\"Number of ...</td>\n",
       "    </tr>\n",
       "    <tr>\n",
       "      <th>1</th>\n",
       "      <td>7f7036a6d550aaa89d34c77bd39a5e48</td>\n",
       "      <td>2016-03-25 22:59:23 +0000</td>\n",
       "      <td>http://www.flipkart.com/fabhomedecor-fabric-do...</td>\n",
       "      <td>FabHomeDecor Fabric Double Sofa Bed</td>\n",
       "      <td>[Furniture ,  Living Room Furniture ,  Sofa Be...</td>\n",
       "      <td>SBEEH3QGU7MFYJFY</td>\n",
       "      <td>32157.0</td>\n",
       "      <td>22646.0</td>\n",
       "      <td>[\"http://img6a.flixcart.com/image/sofa-bed/j/f...</td>\n",
       "      <td>False</td>\n",
       "      <td>FabHomeDecor Fabric Double Sofa Bed (Finish Co...</td>\n",
       "      <td>NaN</td>\n",
       "      <td>NaN</td>\n",
       "      <td>FabHomeDecor</td>\n",
       "      <td>{\"product_specification\"=&gt;[{\"key\"=&gt;\"Installati...</td>\n",
       "    </tr>\n",
       "    <tr>\n",
       "      <th>2</th>\n",
       "      <td>f449ec65dcbc041b6ae5e6a32717d01b</td>\n",
       "      <td>2016-03-25 22:59:23 +0000</td>\n",
       "      <td>http://www.flipkart.com/aw-bellies/p/itmeh4grg...</td>\n",
       "      <td>AW Bellies</td>\n",
       "      <td>[Footwear ,  Women's Footwear ,  Ballerinas , ...</td>\n",
       "      <td>SHOEH4GRSUBJGZXE</td>\n",
       "      <td>999.0</td>\n",
       "      <td>499.0</td>\n",
       "      <td>[\"http://img5a.flixcart.com/image/shoe/7/z/z/r...</td>\n",
       "      <td>False</td>\n",
       "      <td>Key Features of AW Bellies Sandals Wedges Heel...</td>\n",
       "      <td>NaN</td>\n",
       "      <td>NaN</td>\n",
       "      <td>AW</td>\n",
       "      <td>{\"product_specification\"=&gt;[{\"key\"=&gt;\"Ideal For\"...</td>\n",
       "    </tr>\n",
       "    <tr>\n",
       "      <th>3</th>\n",
       "      <td>0973b37acd0c664e3de26e97e5571454</td>\n",
       "      <td>2016-03-25 22:59:23 +0000</td>\n",
       "      <td>http://www.flipkart.com/alisha-solid-women-s-c...</td>\n",
       "      <td>Alisha Solid Women's Cycling Shorts</td>\n",
       "      <td>[Clothing ,  Women's Clothing ,  Lingerie, Sle...</td>\n",
       "      <td>SRTEH2F6HUZMQ6SJ</td>\n",
       "      <td>699.0</td>\n",
       "      <td>267.0</td>\n",
       "      <td>[\"http://img5a.flixcart.com/image/short/6/2/h/...</td>\n",
       "      <td>False</td>\n",
       "      <td>Key Features of Alisha Solid Women's Cycling S...</td>\n",
       "      <td>NaN</td>\n",
       "      <td>NaN</td>\n",
       "      <td>Alisha</td>\n",
       "      <td>{\"product_specification\"=&gt;[{\"key\"=&gt;\"Number of ...</td>\n",
       "    </tr>\n",
       "    <tr>\n",
       "      <th>4</th>\n",
       "      <td>bc940ea42ee6bef5ac7cea3fb5cfbee7</td>\n",
       "      <td>2016-03-25 22:59:23 +0000</td>\n",
       "      <td>http://www.flipkart.com/sicons-all-purpose-arn...</td>\n",
       "      <td>Sicons All Purpose Arnica Dog Shampoo</td>\n",
       "      <td>[Pet Supplies ,  Grooming ,  Skin &amp; Coat Care ...</td>\n",
       "      <td>PSOEH3ZYDMSYARJ5</td>\n",
       "      <td>220.0</td>\n",
       "      <td>210.0</td>\n",
       "      <td>[\"http://img5a.flixcart.com/image/pet-shampoo/...</td>\n",
       "      <td>False</td>\n",
       "      <td>Specifications of Sicons All Purpose Arnica Do...</td>\n",
       "      <td>NaN</td>\n",
       "      <td>NaN</td>\n",
       "      <td>Sicons</td>\n",
       "      <td>{\"product_specification\"=&gt;[{\"key\"=&gt;\"Pet Type\",...</td>\n",
       "    </tr>\n",
       "  </tbody>\n",
       "</table>\n",
       "</div>"
      ],
      "text/plain": [
       "                            uniq_id            crawl_timestamp  \\\n",
       "0  c2d766ca982eca8304150849735ffef9  2016-03-25 22:59:23 +0000   \n",
       "1  7f7036a6d550aaa89d34c77bd39a5e48  2016-03-25 22:59:23 +0000   \n",
       "2  f449ec65dcbc041b6ae5e6a32717d01b  2016-03-25 22:59:23 +0000   \n",
       "3  0973b37acd0c664e3de26e97e5571454  2016-03-25 22:59:23 +0000   \n",
       "4  bc940ea42ee6bef5ac7cea3fb5cfbee7  2016-03-25 22:59:23 +0000   \n",
       "\n",
       "                                         product_url  \\\n",
       "0  http://www.flipkart.com/alisha-solid-women-s-c...   \n",
       "1  http://www.flipkart.com/fabhomedecor-fabric-do...   \n",
       "2  http://www.flipkart.com/aw-bellies/p/itmeh4grg...   \n",
       "3  http://www.flipkart.com/alisha-solid-women-s-c...   \n",
       "4  http://www.flipkart.com/sicons-all-purpose-arn...   \n",
       "\n",
       "                            product_name  \\\n",
       "0    Alisha Solid Women's Cycling Shorts   \n",
       "1    FabHomeDecor Fabric Double Sofa Bed   \n",
       "2                             AW Bellies   \n",
       "3    Alisha Solid Women's Cycling Shorts   \n",
       "4  Sicons All Purpose Arnica Dog Shampoo   \n",
       "\n",
       "                               product_category_tree               pid  \\\n",
       "0  [Clothing ,  Women's Clothing ,  Lingerie, Sle...  SRTEH2FF9KEDEFGF   \n",
       "1  [Furniture ,  Living Room Furniture ,  Sofa Be...  SBEEH3QGU7MFYJFY   \n",
       "2  [Footwear ,  Women's Footwear ,  Ballerinas , ...  SHOEH4GRSUBJGZXE   \n",
       "3  [Clothing ,  Women's Clothing ,  Lingerie, Sle...  SRTEH2F6HUZMQ6SJ   \n",
       "4  [Pet Supplies ,  Grooming ,  Skin & Coat Care ...  PSOEH3ZYDMSYARJ5   \n",
       "\n",
       "   retail_price  discounted_price  \\\n",
       "0         999.0             379.0   \n",
       "1       32157.0           22646.0   \n",
       "2         999.0             499.0   \n",
       "3         699.0             267.0   \n",
       "4         220.0             210.0   \n",
       "\n",
       "                                               image  is_FK_Advantage_product  \\\n",
       "0  [\"http://img5a.flixcart.com/image/short/u/4/a/...                    False   \n",
       "1  [\"http://img6a.flixcart.com/image/sofa-bed/j/f...                    False   \n",
       "2  [\"http://img5a.flixcart.com/image/shoe/7/z/z/r...                    False   \n",
       "3  [\"http://img5a.flixcart.com/image/short/6/2/h/...                    False   \n",
       "4  [\"http://img5a.flixcart.com/image/pet-shampoo/...                    False   \n",
       "\n",
       "                                         description  product_rating  \\\n",
       "0  Key Features of Alisha Solid Women's Cycling S...             NaN   \n",
       "1  FabHomeDecor Fabric Double Sofa Bed (Finish Co...             NaN   \n",
       "2  Key Features of AW Bellies Sandals Wedges Heel...             NaN   \n",
       "3  Key Features of Alisha Solid Women's Cycling S...             NaN   \n",
       "4  Specifications of Sicons All Purpose Arnica Do...             NaN   \n",
       "\n",
       "   overall_rating         brand  \\\n",
       "0             NaN        Alisha   \n",
       "1             NaN  FabHomeDecor   \n",
       "2             NaN            AW   \n",
       "3             NaN        Alisha   \n",
       "4             NaN        Sicons   \n",
       "\n",
       "                              product_specifications  \n",
       "0  {\"product_specification\"=>[{\"key\"=>\"Number of ...  \n",
       "1  {\"product_specification\"=>[{\"key\"=>\"Installati...  \n",
       "2  {\"product_specification\"=>[{\"key\"=>\"Ideal For\"...  \n",
       "3  {\"product_specification\"=>[{\"key\"=>\"Number of ...  \n",
       "4  {\"product_specification\"=>[{\"key\"=>\"Pet Type\",...  "
      ]
     },
     "execution_count": 12,
     "metadata": {},
     "output_type": "execute_result"
    }
   ],
   "source": [
    "df.head()"
   ]
  },
  {
   "cell_type": "markdown",
   "metadata": {},
   "source": [
    "Category Heirarchy Tree has been converted to a list"
   ]
  },
  {
   "cell_type": "code",
   "execution_count": 13,
   "metadata": {
    "execution": {
     "iopub.execute_input": "2023-08-08T15:09:56.799170Z",
     "iopub.status.busy": "2023-08-08T15:09:56.797890Z",
     "iopub.status.idle": "2023-08-08T15:09:56.811455Z",
     "shell.execute_reply": "2023-08-08T15:09:56.809980Z",
     "shell.execute_reply.started": "2023-08-08T15:09:56.799119Z"
    }
   },
   "outputs": [],
   "source": [
    "# removing unwanted features\n",
    "todelete=['crawl_timestamp','product_url','image',\"is_FK_Advantage_product\",\"product_rating\",\"overall_rating\",\"product_specifications\"]\n",
    "df=df.drop(todelete,axis=1)"
   ]
  },
  {
   "cell_type": "code",
   "execution_count": 14,
   "metadata": {
    "execution": {
     "iopub.execute_input": "2023-08-08T15:09:56.813713Z",
     "iopub.status.busy": "2023-08-08T15:09:56.813208Z",
     "iopub.status.idle": "2023-08-08T15:09:56.839804Z",
     "shell.execute_reply": "2023-08-08T15:09:56.838469Z",
     "shell.execute_reply.started": "2023-08-08T15:09:56.813676Z"
    }
   },
   "outputs": [
    {
     "data": {
      "text/html": [
       "<div>\n",
       "<style scoped>\n",
       "    .dataframe tbody tr th:only-of-type {\n",
       "        vertical-align: middle;\n",
       "    }\n",
       "\n",
       "    .dataframe tbody tr th {\n",
       "        vertical-align: top;\n",
       "    }\n",
       "\n",
       "    .dataframe thead th {\n",
       "        text-align: right;\n",
       "    }\n",
       "</style>\n",
       "<table border=\"1\" class=\"dataframe\">\n",
       "  <thead>\n",
       "    <tr style=\"text-align: right;\">\n",
       "      <th></th>\n",
       "      <th>uniq_id</th>\n",
       "      <th>product_name</th>\n",
       "      <th>product_category_tree</th>\n",
       "      <th>pid</th>\n",
       "      <th>retail_price</th>\n",
       "      <th>discounted_price</th>\n",
       "      <th>description</th>\n",
       "      <th>brand</th>\n",
       "    </tr>\n",
       "  </thead>\n",
       "  <tbody>\n",
       "    <tr>\n",
       "      <th>0</th>\n",
       "      <td>c2d766ca982eca8304150849735ffef9</td>\n",
       "      <td>Alisha Solid Women's Cycling Shorts</td>\n",
       "      <td>[Clothing ,  Women's Clothing ,  Lingerie, Sle...</td>\n",
       "      <td>SRTEH2FF9KEDEFGF</td>\n",
       "      <td>999.0</td>\n",
       "      <td>379.0</td>\n",
       "      <td>Key Features of Alisha Solid Women's Cycling S...</td>\n",
       "      <td>Alisha</td>\n",
       "    </tr>\n",
       "    <tr>\n",
       "      <th>1</th>\n",
       "      <td>7f7036a6d550aaa89d34c77bd39a5e48</td>\n",
       "      <td>FabHomeDecor Fabric Double Sofa Bed</td>\n",
       "      <td>[Furniture ,  Living Room Furniture ,  Sofa Be...</td>\n",
       "      <td>SBEEH3QGU7MFYJFY</td>\n",
       "      <td>32157.0</td>\n",
       "      <td>22646.0</td>\n",
       "      <td>FabHomeDecor Fabric Double Sofa Bed (Finish Co...</td>\n",
       "      <td>FabHomeDecor</td>\n",
       "    </tr>\n",
       "    <tr>\n",
       "      <th>2</th>\n",
       "      <td>f449ec65dcbc041b6ae5e6a32717d01b</td>\n",
       "      <td>AW Bellies</td>\n",
       "      <td>[Footwear ,  Women's Footwear ,  Ballerinas , ...</td>\n",
       "      <td>SHOEH4GRSUBJGZXE</td>\n",
       "      <td>999.0</td>\n",
       "      <td>499.0</td>\n",
       "      <td>Key Features of AW Bellies Sandals Wedges Heel...</td>\n",
       "      <td>AW</td>\n",
       "    </tr>\n",
       "    <tr>\n",
       "      <th>3</th>\n",
       "      <td>0973b37acd0c664e3de26e97e5571454</td>\n",
       "      <td>Alisha Solid Women's Cycling Shorts</td>\n",
       "      <td>[Clothing ,  Women's Clothing ,  Lingerie, Sle...</td>\n",
       "      <td>SRTEH2F6HUZMQ6SJ</td>\n",
       "      <td>699.0</td>\n",
       "      <td>267.0</td>\n",
       "      <td>Key Features of Alisha Solid Women's Cycling S...</td>\n",
       "      <td>Alisha</td>\n",
       "    </tr>\n",
       "    <tr>\n",
       "      <th>4</th>\n",
       "      <td>bc940ea42ee6bef5ac7cea3fb5cfbee7</td>\n",
       "      <td>Sicons All Purpose Arnica Dog Shampoo</td>\n",
       "      <td>[Pet Supplies ,  Grooming ,  Skin &amp; Coat Care ...</td>\n",
       "      <td>PSOEH3ZYDMSYARJ5</td>\n",
       "      <td>220.0</td>\n",
       "      <td>210.0</td>\n",
       "      <td>Specifications of Sicons All Purpose Arnica Do...</td>\n",
       "      <td>Sicons</td>\n",
       "    </tr>\n",
       "  </tbody>\n",
       "</table>\n",
       "</div>"
      ],
      "text/plain": [
       "                            uniq_id                           product_name  \\\n",
       "0  c2d766ca982eca8304150849735ffef9    Alisha Solid Women's Cycling Shorts   \n",
       "1  7f7036a6d550aaa89d34c77bd39a5e48    FabHomeDecor Fabric Double Sofa Bed   \n",
       "2  f449ec65dcbc041b6ae5e6a32717d01b                             AW Bellies   \n",
       "3  0973b37acd0c664e3de26e97e5571454    Alisha Solid Women's Cycling Shorts   \n",
       "4  bc940ea42ee6bef5ac7cea3fb5cfbee7  Sicons All Purpose Arnica Dog Shampoo   \n",
       "\n",
       "                               product_category_tree               pid  \\\n",
       "0  [Clothing ,  Women's Clothing ,  Lingerie, Sle...  SRTEH2FF9KEDEFGF   \n",
       "1  [Furniture ,  Living Room Furniture ,  Sofa Be...  SBEEH3QGU7MFYJFY   \n",
       "2  [Footwear ,  Women's Footwear ,  Ballerinas , ...  SHOEH4GRSUBJGZXE   \n",
       "3  [Clothing ,  Women's Clothing ,  Lingerie, Sle...  SRTEH2F6HUZMQ6SJ   \n",
       "4  [Pet Supplies ,  Grooming ,  Skin & Coat Care ...  PSOEH3ZYDMSYARJ5   \n",
       "\n",
       "   retail_price  discounted_price  \\\n",
       "0         999.0             379.0   \n",
       "1       32157.0           22646.0   \n",
       "2         999.0             499.0   \n",
       "3         699.0             267.0   \n",
       "4         220.0             210.0   \n",
       "\n",
       "                                         description         brand  \n",
       "0  Key Features of Alisha Solid Women's Cycling S...        Alisha  \n",
       "1  FabHomeDecor Fabric Double Sofa Bed (Finish Co...  FabHomeDecor  \n",
       "2  Key Features of AW Bellies Sandals Wedges Heel...            AW  \n",
       "3  Key Features of Alisha Solid Women's Cycling S...        Alisha  \n",
       "4  Specifications of Sicons All Purpose Arnica Do...        Sicons  "
      ]
     },
     "execution_count": 14,
     "metadata": {},
     "output_type": "execute_result"
    }
   ],
   "source": [
    "df.head()"
   ]
  },
  {
   "cell_type": "code",
   "execution_count": 22,
   "metadata": {
    "execution": {
     "iopub.execute_input": "2023-08-08T15:09:56.841499Z",
     "iopub.status.busy": "2023-08-08T15:09:56.841045Z",
     "iopub.status.idle": "2023-08-08T15:09:57.860941Z",
     "shell.execute_reply": "2023-08-08T15:09:57.859762Z",
     "shell.execute_reply.started": "2023-08-08T15:09:56.841461Z"
    }
   },
   "outputs": [],
   "source": [
    "from nltk.corpus import stopwords \n",
    "from nltk.tokenize import word_tokenize\n",
    "from nltk.stem.wordnet import WordNetLemmatizer \n",
    "lem = WordNetLemmatizer()\n",
    "stop_words = set(stopwords.words('english')) \n",
    "exclude = set(string.punctuation)\n",
    "import string"
   ]
  },
  {
   "cell_type": "code",
   "execution_count": 23,
   "metadata": {
    "execution": {
     "iopub.execute_input": "2023-08-08T15:09:57.863562Z",
     "iopub.status.busy": "2023-08-08T15:09:57.862992Z",
     "iopub.status.idle": "2023-08-08T15:09:57.871844Z",
     "shell.execute_reply": "2023-08-08T15:09:57.870466Z",
     "shell.execute_reply.started": "2023-08-08T15:09:57.863502Z"
    }
   },
   "outputs": [
    {
     "data": {
      "text/plain": [
       "(20000, 8)"
      ]
     },
     "execution_count": 23,
     "metadata": {},
     "output_type": "execute_result"
    }
   ],
   "source": [
    "df.shape"
   ]
  },
  {
   "cell_type": "code",
   "execution_count": 24,
   "metadata": {
    "execution": {
     "iopub.execute_input": "2023-08-08T15:09:57.873517Z",
     "iopub.status.busy": "2023-08-08T15:09:57.873123Z",
     "iopub.status.idle": "2023-08-08T15:09:57.902415Z",
     "shell.execute_reply": "2023-08-08T15:09:57.901245Z",
     "shell.execute_reply.started": "2023-08-08T15:09:57.873483Z"
    }
   },
   "outputs": [
    {
     "data": {
      "text/plain": [
       "(12676, 8)"
      ]
     },
     "execution_count": 24,
     "metadata": {},
     "output_type": "execute_result"
    }
   ],
   "source": [
    "dfcopy=df.copy()\n",
    "# removing duplicate product rows\n",
    "dfcopy.drop_duplicates(subset =\"product_name\", \n",
    "                     keep = \"first\", inplace = True)\n",
    "dfcopy.shape"
   ]
  },
  {
   "cell_type": "markdown",
   "metadata": {},
   "source": [
    "8000 rows got removed"
   ]
  },
  {
   "cell_type": "code",
   "execution_count": 33,
   "metadata": {
    "execution": {
     "iopub.execute_input": "2023-08-08T15:09:59.596525Z",
     "iopub.status.busy": "2023-08-08T15:09:59.593827Z",
     "iopub.status.idle": "2023-08-08T15:09:59.605219Z",
     "shell.execute_reply": "2023-08-08T15:09:59.603917Z",
     "shell.execute_reply.started": "2023-08-08T15:09:59.596475Z"
    }
   },
   "outputs": [],
   "source": [
    "def filter_keywords(doc):\n",
    "    doc=doc.lower()\n",
    "    stop_free = \" \".join([i for i in doc.split() if i not in stop_words])\n",
    "    punc_free = \"\".join(ch for ch in stop_free if ch not in exclude)\n",
    "    word_tokens = word_tokenize(punc_free)\n",
    "    filtered_sentence = [(lem.lemmatize(w, \"v\")) for w in word_tokens]\n",
    "    return filtered_sentence"
   ]
  },
  {
   "cell_type": "code",
   "execution_count": 37,
   "metadata": {},
   "outputs": [
    {
     "name": "stderr",
     "output_type": "stream",
     "text": [
      "[nltk_data] Downloading package omw-1.4 to\n",
      "[nltk_data]     C:\\Users\\HP\\AppData\\Roaming\\nltk_data...\n"
     ]
    },
    {
     "data": {
      "text/plain": [
       "True"
      ]
     },
     "execution_count": 37,
     "metadata": {},
     "output_type": "execute_result"
    }
   ],
   "source": [
    "nltk.download('omw-1.4')"
   ]
  },
  {
   "cell_type": "code",
   "execution_count": 38,
   "metadata": {
    "execution": {
     "iopub.execute_input": "2023-08-08T15:09:59.607210Z",
     "iopub.status.busy": "2023-08-08T15:09:59.606764Z",
     "iopub.status.idle": "2023-08-08T15:10:21.128275Z",
     "shell.execute_reply": "2023-08-08T15:10:21.126891Z",
     "shell.execute_reply.started": "2023-08-08T15:09:59.607176Z"
    }
   },
   "outputs": [],
   "source": [
    "dfcopy['product'] = dfcopy['product_name'].apply(filter_keywords)\n",
    "dfcopy['description'] = dfcopy['description'].astype(\"str\").apply(filter_keywords)\n",
    "dfcopy['brand'] = dfcopy['brand'].astype(\"str\").apply(filter_keywords)"
   ]
  },
  {
   "cell_type": "code",
   "execution_count": 39,
   "metadata": {
    "execution": {
     "iopub.execute_input": "2023-08-08T15:10:21.134830Z",
     "iopub.status.busy": "2023-08-08T15:10:21.134404Z",
     "iopub.status.idle": "2023-08-08T15:10:21.551864Z",
     "shell.execute_reply": "2023-08-08T15:10:21.550458Z",
     "shell.execute_reply.started": "2023-08-08T15:10:21.134797Z"
    }
   },
   "outputs": [],
   "source": [
    "# combining all the product metadata under one column\n",
    "dfcopy[\"all_meta\"]=dfcopy['product']+dfcopy['brand']+ df['product_category_tree']+dfcopy['description']\n",
    "dfcopy[\"all_meta\"] = dfcopy[\"all_meta\"].apply(lambda x: ' '.join(x))"
   ]
  },
  {
   "cell_type": "code",
   "execution_count": 40,
   "metadata": {
    "execution": {
     "iopub.execute_input": "2023-08-08T15:10:21.554003Z",
     "iopub.status.busy": "2023-08-08T15:10:21.553505Z",
     "iopub.status.idle": "2023-08-08T15:10:21.565242Z",
     "shell.execute_reply": "2023-08-08T15:10:21.564003Z",
     "shell.execute_reply.started": "2023-08-08T15:10:21.553961Z"
    }
   },
   "outputs": [
    {
     "data": {
      "text/plain": [
       "0    alisha solid womens cycle short alisha Clothin...\n",
       "1    fabhomedecor fabric double sofa bed fabhomedec...\n",
       "2    aw belly aw Footwear   Women's Footwear   Ball...\n",
       "4    sicons purpose arnica dog shampoo sicons Pet S...\n",
       "5    eternal gandhi super series crystal paper weig...\n",
       "Name: all_meta, dtype: object"
      ]
     },
     "execution_count": 40,
     "metadata": {},
     "output_type": "execute_result"
    }
   ],
   "source": [
    "dfcopy[\"all_meta\"].head()"
   ]
  },
  {
   "cell_type": "code",
   "execution_count": 41,
   "metadata": {
    "execution": {
     "iopub.execute_input": "2023-08-08T15:10:21.567177Z",
     "iopub.status.busy": "2023-08-08T15:10:21.566736Z",
     "iopub.status.idle": "2023-08-08T15:10:21.603797Z",
     "shell.execute_reply": "2023-08-08T15:10:21.602611Z",
     "shell.execute_reply.started": "2023-08-08T15:10:21.567145Z"
    }
   },
   "outputs": [
    {
     "data": {
      "text/html": [
       "<div>\n",
       "<style scoped>\n",
       "    .dataframe tbody tr th:only-of-type {\n",
       "        vertical-align: middle;\n",
       "    }\n",
       "\n",
       "    .dataframe tbody tr th {\n",
       "        vertical-align: top;\n",
       "    }\n",
       "\n",
       "    .dataframe thead th {\n",
       "        text-align: right;\n",
       "    }\n",
       "</style>\n",
       "<table border=\"1\" class=\"dataframe\">\n",
       "  <thead>\n",
       "    <tr style=\"text-align: right;\">\n",
       "      <th></th>\n",
       "      <th>uniq_id</th>\n",
       "      <th>product_name</th>\n",
       "      <th>product_category_tree</th>\n",
       "      <th>pid</th>\n",
       "      <th>retail_price</th>\n",
       "      <th>discounted_price</th>\n",
       "      <th>description</th>\n",
       "      <th>brand</th>\n",
       "      <th>product</th>\n",
       "      <th>all_meta</th>\n",
       "    </tr>\n",
       "  </thead>\n",
       "  <tbody>\n",
       "    <tr>\n",
       "      <th>0</th>\n",
       "      <td>c2d766ca982eca8304150849735ffef9</td>\n",
       "      <td>Alisha Solid Women's Cycling Shorts</td>\n",
       "      <td>[Clothing ,  Women's Clothing ,  Lingerie, Sle...</td>\n",
       "      <td>SRTEH2FF9KEDEFGF</td>\n",
       "      <td>999.0</td>\n",
       "      <td>379.0</td>\n",
       "      <td>[key, feature, alisha, solid, womens, cycle, s...</td>\n",
       "      <td>[alisha]</td>\n",
       "      <td>[alisha, solid, womens, cycle, short]</td>\n",
       "      <td>alisha solid womens cycle short alisha Clothin...</td>\n",
       "    </tr>\n",
       "    <tr>\n",
       "      <th>1</th>\n",
       "      <td>7f7036a6d550aaa89d34c77bd39a5e48</td>\n",
       "      <td>FabHomeDecor Fabric Double Sofa Bed</td>\n",
       "      <td>[Furniture ,  Living Room Furniture ,  Sofa Be...</td>\n",
       "      <td>SBEEH3QGU7MFYJFY</td>\n",
       "      <td>32157.0</td>\n",
       "      <td>22646.0</td>\n",
       "      <td>[fabhomedecor, fabric, double, sofa, bed, fini...</td>\n",
       "      <td>[fabhomedecor]</td>\n",
       "      <td>[fabhomedecor, fabric, double, sofa, bed]</td>\n",
       "      <td>fabhomedecor fabric double sofa bed fabhomedec...</td>\n",
       "    </tr>\n",
       "    <tr>\n",
       "      <th>2</th>\n",
       "      <td>f449ec65dcbc041b6ae5e6a32717d01b</td>\n",
       "      <td>AW Bellies</td>\n",
       "      <td>[Footwear ,  Women's Footwear ,  Ballerinas , ...</td>\n",
       "      <td>SHOEH4GRSUBJGZXE</td>\n",
       "      <td>999.0</td>\n",
       "      <td>499.0</td>\n",
       "      <td>[key, feature, aw, belly, sandals, wedge, heel...</td>\n",
       "      <td>[aw]</td>\n",
       "      <td>[aw, belly]</td>\n",
       "      <td>aw belly aw Footwear   Women's Footwear   Ball...</td>\n",
       "    </tr>\n",
       "    <tr>\n",
       "      <th>4</th>\n",
       "      <td>bc940ea42ee6bef5ac7cea3fb5cfbee7</td>\n",
       "      <td>Sicons All Purpose Arnica Dog Shampoo</td>\n",
       "      <td>[Pet Supplies ,  Grooming ,  Skin &amp; Coat Care ...</td>\n",
       "      <td>PSOEH3ZYDMSYARJ5</td>\n",
       "      <td>220.0</td>\n",
       "      <td>210.0</td>\n",
       "      <td>[specifications, sicons, purpose, arnica, dog,...</td>\n",
       "      <td>[sicons]</td>\n",
       "      <td>[sicons, purpose, arnica, dog, shampoo]</td>\n",
       "      <td>sicons purpose arnica dog shampoo sicons Pet S...</td>\n",
       "    </tr>\n",
       "    <tr>\n",
       "      <th>5</th>\n",
       "      <td>c2a17313954882c1dba461863e98adf2</td>\n",
       "      <td>Eternal Gandhi Super Series Crystal Paper Weig...</td>\n",
       "      <td>[Eternal Gandhi Super Series Crystal Paper Wei...</td>\n",
       "      <td>PWTEB7H2E4KCYUE3</td>\n",
       "      <td>430.0</td>\n",
       "      <td>430.0</td>\n",
       "      <td>[key, feature, eternal, gandhi, super, series,...</td>\n",
       "      <td>[eternal, gandhi]</td>\n",
       "      <td>[eternal, gandhi, super, series, crystal, pape...</td>\n",
       "      <td>eternal gandhi super series crystal paper weig...</td>\n",
       "    </tr>\n",
       "  </tbody>\n",
       "</table>\n",
       "</div>"
      ],
      "text/plain": [
       "                            uniq_id  \\\n",
       "0  c2d766ca982eca8304150849735ffef9   \n",
       "1  7f7036a6d550aaa89d34c77bd39a5e48   \n",
       "2  f449ec65dcbc041b6ae5e6a32717d01b   \n",
       "4  bc940ea42ee6bef5ac7cea3fb5cfbee7   \n",
       "5  c2a17313954882c1dba461863e98adf2   \n",
       "\n",
       "                                        product_name  \\\n",
       "0                Alisha Solid Women's Cycling Shorts   \n",
       "1                FabHomeDecor Fabric Double Sofa Bed   \n",
       "2                                         AW Bellies   \n",
       "4              Sicons All Purpose Arnica Dog Shampoo   \n",
       "5  Eternal Gandhi Super Series Crystal Paper Weig...   \n",
       "\n",
       "                               product_category_tree               pid  \\\n",
       "0  [Clothing ,  Women's Clothing ,  Lingerie, Sle...  SRTEH2FF9KEDEFGF   \n",
       "1  [Furniture ,  Living Room Furniture ,  Sofa Be...  SBEEH3QGU7MFYJFY   \n",
       "2  [Footwear ,  Women's Footwear ,  Ballerinas , ...  SHOEH4GRSUBJGZXE   \n",
       "4  [Pet Supplies ,  Grooming ,  Skin & Coat Care ...  PSOEH3ZYDMSYARJ5   \n",
       "5  [Eternal Gandhi Super Series Crystal Paper Wei...  PWTEB7H2E4KCYUE3   \n",
       "\n",
       "   retail_price  discounted_price  \\\n",
       "0         999.0             379.0   \n",
       "1       32157.0           22646.0   \n",
       "2         999.0             499.0   \n",
       "4         220.0             210.0   \n",
       "5         430.0             430.0   \n",
       "\n",
       "                                         description              brand  \\\n",
       "0  [key, feature, alisha, solid, womens, cycle, s...           [alisha]   \n",
       "1  [fabhomedecor, fabric, double, sofa, bed, fini...     [fabhomedecor]   \n",
       "2  [key, feature, aw, belly, sandals, wedge, heel...               [aw]   \n",
       "4  [specifications, sicons, purpose, arnica, dog,...           [sicons]   \n",
       "5  [key, feature, eternal, gandhi, super, series,...  [eternal, gandhi]   \n",
       "\n",
       "                                             product  \\\n",
       "0              [alisha, solid, womens, cycle, short]   \n",
       "1          [fabhomedecor, fabric, double, sofa, bed]   \n",
       "2                                        [aw, belly]   \n",
       "4            [sicons, purpose, arnica, dog, shampoo]   \n",
       "5  [eternal, gandhi, super, series, crystal, pape...   \n",
       "\n",
       "                                            all_meta  \n",
       "0  alisha solid womens cycle short alisha Clothin...  \n",
       "1  fabhomedecor fabric double sofa bed fabhomedec...  \n",
       "2  aw belly aw Footwear   Women's Footwear   Ball...  \n",
       "4  sicons purpose arnica dog shampoo sicons Pet S...  \n",
       "5  eternal gandhi super series crystal paper weig...  "
      ]
     },
     "execution_count": 41,
     "metadata": {},
     "output_type": "execute_result"
    }
   ],
   "source": [
    "dfcopy.head()"
   ]
  },
  {
   "cell_type": "code",
   "execution_count": 43,
   "metadata": {
    "execution": {
     "iopub.execute_input": "2023-08-08T15:10:21.605882Z",
     "iopub.status.busy": "2023-08-08T15:10:21.605463Z",
     "iopub.status.idle": "2023-08-08T15:10:22.649724Z",
     "shell.execute_reply": "2023-08-08T15:10:22.648579Z",
     "shell.execute_reply.started": "2023-08-08T15:10:21.605849Z"
    }
   },
   "outputs": [],
   "source": [
    "dfcopy.to_csv(\"C:/Users/HP/Desktop/grid/preprocessed.csv\", index=False)"
   ]
  },
  {
   "cell_type": "code",
   "execution_count": 44,
   "metadata": {
    "execution": {
     "iopub.execute_input": "2023-08-08T15:10:22.652147Z",
     "iopub.status.busy": "2023-08-08T15:10:22.651502Z",
     "iopub.status.idle": "2023-08-08T15:10:22.660327Z",
     "shell.execute_reply": "2023-08-08T15:10:22.659027Z",
     "shell.execute_reply.started": "2023-08-08T15:10:22.652099Z"
    }
   },
   "outputs": [
    {
     "data": {
      "text/plain": [
       "Index(['uniq_id', 'product_name', 'product_category_tree', 'pid',\n",
       "       'retail_price', 'discounted_price', 'description', 'brand', 'product',\n",
       "       'all_meta'],\n",
       "      dtype='object')"
      ]
     },
     "execution_count": 44,
     "metadata": {},
     "output_type": "execute_result"
    }
   ],
   "source": [
    "dfcopy.columns"
   ]
  },
  {
   "cell_type": "markdown",
   "metadata": {},
   "source": [
    " Data has been preprocessed and saved as a new csv"
   ]
  },
  {
   "cell_type": "markdown",
   "metadata": {},
   "source": [
    "## Calculating Product Similarities"
   ]
  },
  {
   "cell_type": "code",
   "execution_count": 45,
   "metadata": {
    "execution": {
     "iopub.execute_input": "2023-08-08T15:10:22.663150Z",
     "iopub.status.busy": "2023-08-08T15:10:22.662679Z",
     "iopub.status.idle": "2023-08-08T15:10:25.960230Z",
     "shell.execute_reply": "2023-08-08T15:10:25.958953Z",
     "shell.execute_reply.started": "2023-08-08T15:10:22.663103Z"
    }
   },
   "outputs": [],
   "source": [
    "from sklearn.feature_extraction.text import TfidfVectorizer, CountVectorizer\n",
    "\n",
    "tf = TfidfVectorizer(analyzer='word',ngram_range=(1, 2), min_df=0, stop_words='english')\n",
    "tfidf_matrix = tf.fit_transform(dfcopy['all_meta'])"
   ]
  },
  {
   "cell_type": "code",
   "execution_count": 46,
   "metadata": {
    "execution": {
     "iopub.execute_input": "2023-08-08T15:10:25.961970Z",
     "iopub.status.busy": "2023-08-08T15:10:25.961608Z",
     "iopub.status.idle": "2023-08-08T15:10:37.435549Z",
     "shell.execute_reply": "2023-08-08T15:10:37.434131Z",
     "shell.execute_reply.started": "2023-08-08T15:10:25.961938Z"
    }
   },
   "outputs": [],
   "source": [
    "# using cosine similarities for calculating similarities between 2 product metadata vectors\n",
    "from sklearn.metrics.pairwise import linear_kernel, cosine_similarity\n",
    "cosine_sim = cosine_similarity(tfidf_matrix, tfidf_matrix)"
   ]
  },
  {
   "cell_type": "code",
   "execution_count": 47,
   "metadata": {
    "execution": {
     "iopub.execute_input": "2023-08-08T15:10:37.437284Z",
     "iopub.status.busy": "2023-08-08T15:10:37.436925Z",
     "iopub.status.idle": "2023-08-08T15:10:37.446089Z",
     "shell.execute_reply": "2023-08-08T15:10:37.444714Z",
     "shell.execute_reply.started": "2023-08-08T15:10:37.437252Z"
    }
   },
   "outputs": [
    {
     "data": {
      "text/plain": [
       "array([[1.00000000e+00, 8.68316315e-03, 1.51436535e-02, ...,\n",
       "        5.45842099e-03, 7.31208048e-03, 1.31609786e-03],\n",
       "       [8.68316315e-03, 1.00000000e+00, 5.19867277e-02, ...,\n",
       "        1.03477740e-03, 1.38618396e-03, 3.22026556e-02],\n",
       "       [1.51436535e-02, 5.19867277e-02, 1.00000000e+00, ...,\n",
       "        4.55013031e-02, 7.25525053e-02, 1.62818750e-02],\n",
       "       ...,\n",
       "       [5.45842099e-03, 1.03477740e-03, 4.55013031e-02, ...,\n",
       "        1.00000000e+00, 1.27188991e-01, 1.60111453e-04],\n",
       "       [7.31208048e-03, 1.38618396e-03, 7.25525053e-02, ...,\n",
       "        1.27188991e-01, 1.00000000e+00, 2.14484707e-04],\n",
       "       [1.31609786e-03, 3.22026556e-02, 1.62818750e-02, ...,\n",
       "        1.60111453e-04, 2.14484707e-04, 1.00000000e+00]])"
      ]
     },
     "execution_count": 47,
     "metadata": {},
     "output_type": "execute_result"
    }
   ],
   "source": [
    "cosine_sim"
   ]
  },
  {
   "cell_type": "markdown",
   "metadata": {},
   "source": [
    "## Recommendations"
   ]
  },
  {
   "cell_type": "markdown",
   "metadata": {},
   "source": [
    "### Without Price Filter"
   ]
  },
  {
   "cell_type": "code",
   "execution_count": 48,
   "metadata": {
    "execution": {
     "iopub.execute_input": "2023-08-08T15:10:37.448293Z",
     "iopub.status.busy": "2023-08-08T15:10:37.447846Z",
     "iopub.status.idle": "2023-08-08T15:10:37.469492Z",
     "shell.execute_reply": "2023-08-08T15:10:37.467566Z",
     "shell.execute_reply.started": "2023-08-08T15:10:37.448256Z"
    }
   },
   "outputs": [],
   "source": [
    "dfcopy = dfcopy.reset_index()\n",
    "titles = dfcopy['product_name']\n",
    "indices = pd.Series(dfcopy.index, index=dfcopy['product_name'])"
   ]
  },
  {
   "cell_type": "code",
   "execution_count": 49,
   "metadata": {
    "execution": {
     "iopub.execute_input": "2023-08-08T15:10:37.472055Z",
     "iopub.status.busy": "2023-08-08T15:10:37.471595Z",
     "iopub.status.idle": "2023-08-08T15:10:37.480096Z",
     "shell.execute_reply": "2023-08-08T15:10:37.478724Z",
     "shell.execute_reply.started": "2023-08-08T15:10:37.472007Z"
    }
   },
   "outputs": [],
   "source": [
    "def get_recommendations(title):\n",
    "    idx = indices[title]\n",
    "    sim_scores = list(enumerate(cosine_sim[idx]))\n",
    "    sim_scores = sorted(sim_scores, key=lambda x: x[1], reverse=True)\n",
    "    sim_scores = sim_scores[1:31]\n",
    "    product_indices = [i[0] for i in sim_scores]\n",
    "    return titles.iloc[product_indices]"
   ]
  },
  {
   "cell_type": "code",
   "execution_count": 50,
   "metadata": {
    "execution": {
     "iopub.execute_input": "2023-08-08T15:10:37.481970Z",
     "iopub.status.busy": "2023-08-08T15:10:37.481507Z",
     "iopub.status.idle": "2023-08-08T15:10:37.519252Z",
     "shell.execute_reply": "2023-08-08T15:10:37.517848Z",
     "shell.execute_reply.started": "2023-08-08T15:10:37.481926Z"
    }
   },
   "outputs": [
    {
     "data": {
      "text/plain": [
       "12219    Comfort Couch Engineered Wood 3 Seater Sofa\n",
       "12199        @home Annulus Solid Wood Dressing Table\n",
       "11866       Ethnic Handicrafts Solid Wood Single Bed\n",
       "11857        Ethnic Handicrafts Solid Wood Queen Bed\n",
       "5191                    HomeEdge Solid Wood King Bed\n",
       "Name: product_name, dtype: object"
      ]
     },
     "execution_count": 50,
     "metadata": {},
     "output_type": "execute_result"
    }
   ],
   "source": [
    "get_recommendations(\"FabHomeDecor Fabric Double Sofa Bed\").head(5)"
   ]
  },
  {
   "cell_type": "markdown",
   "metadata": {},
   "source": [
    "### With Price Filter"
   ]
  },
  {
   "cell_type": "code",
   "execution_count": 51,
   "metadata": {
    "execution": {
     "iopub.execute_input": "2023-08-08T15:10:37.521087Z",
     "iopub.status.busy": "2023-08-08T15:10:37.520649Z",
     "iopub.status.idle": "2023-08-08T15:10:37.531296Z",
     "shell.execute_reply": "2023-08-08T15:10:37.530030Z",
     "shell.execute_reply.started": "2023-08-08T15:10:37.521039Z"
    }
   },
   "outputs": [],
   "source": [
    "def get_recommendations2(title, min_price, max_price):\n",
    "    idx = indices[title]\n",
    "    sim_scores = list(enumerate(cosine_sim[idx]))\n",
    "    sim_scores = sorted(sim_scores, key=lambda x: x[1], reverse=True)\n",
    "    sim_scores = sim_scores[1:31]\n",
    "    product_indices = [i[0] for i in sim_scores]\n",
    "\n",
    "    # Filter products by price range\n",
    "    filtered_indices = [i for i in product_indices if min_price <= dfcopy['discounted_price'].iloc[i] <= max_price]\n",
    "\n",
    "    # Take the top 5 items from the filtered list\n",
    "    recommended_indices = filtered_indices[:5]\n",
    "\n",
    "    return titles.iloc[recommended_indices]"
   ]
  },
  {
   "cell_type": "code",
   "execution_count": 52,
   "metadata": {
    "execution": {
     "iopub.execute_input": "2023-08-08T15:10:37.533338Z",
     "iopub.status.busy": "2023-08-08T15:10:37.532874Z",
     "iopub.status.idle": "2023-08-08T15:10:37.568157Z",
     "shell.execute_reply": "2023-08-08T15:10:37.566847Z",
     "shell.execute_reply.started": "2023-08-08T15:10:37.533304Z"
    }
   },
   "outputs": [
    {
     "data": {
      "text/plain": [
       "12346                   Lovely Plastic Desk Chair\n",
       "5147            Anmol Cotton Collapsible Wardrobe\n",
       "7469         Varmora VCST0 Living & Bedroom Stool\n",
       "6387        Palakz Printed Foldable Storage Stool\n",
       "11940    SRK GROUPS Aluminium, Wooden Home Temple\n",
       "Name: product_name, dtype: object"
      ]
     },
     "execution_count": 52,
     "metadata": {},
     "output_type": "execute_result"
    }
   ],
   "source": [
    "get_recommendations2(\"FabHomeDecor Fabric Double Sofa Bed\",1,1000).head(5)"
   ]
  },
  {
   "cell_type": "markdown",
   "metadata": {},
   "source": [
    "### With Discount Percent Filter"
   ]
  },
  {
   "cell_type": "code",
   "execution_count": 64,
   "metadata": {
    "execution": {
     "iopub.execute_input": "2023-08-08T15:10:37.571114Z",
     "iopub.status.busy": "2023-08-08T15:10:37.569932Z",
     "iopub.status.idle": "2023-08-08T15:10:37.581324Z",
     "shell.execute_reply": "2023-08-08T15:10:37.579935Z",
     "shell.execute_reply.started": "2023-08-08T15:10:37.571063Z"
    }
   },
   "outputs": [],
   "source": [
    "def get_recommendations3(title, min_price, max_price, min_discount_percent):\n",
    "    idx = indices[title]\n",
    "    sim_scores = list(enumerate(cosine_sim[idx]))\n",
    "    sim_scores = sorted(sim_scores, key=lambda x: x[1], reverse=True)\n",
    "    sim_scores = sim_scores[1:31]\n",
    "    product_indices = [i[0] for i in sim_scores]\n",
    "\n",
    "    # Filter products by price range and minimum discount percent\n",
    "    filtered_indices = [\n",
    "        i for i in product_indices\n",
    "        if min_price <= dfcopy['discounted_price'].iloc[i] <= max_price\n",
    "        and (dfcopy['retail_price'].iloc[i] - dfcopy['discounted_price'].iloc[i]) / dfcopy['retail_price'].iloc[i] * 100 >= min_discount_percent\n",
    "    ]\n",
    "\n",
    "    # Take the top 5 items from the filtered list\n",
    "    recommended_indices = filtered_indices[:5]\n",
    "\n",
    "    return titles.iloc[recommended_indices]"
   ]
  },
  {
   "cell_type": "code",
   "execution_count": 65,
   "metadata": {
    "execution": {
     "iopub.execute_input": "2023-08-08T15:10:44.356446Z",
     "iopub.status.busy": "2023-08-08T15:10:44.355895Z",
     "iopub.status.idle": "2023-08-08T15:10:44.387241Z",
     "shell.execute_reply": "2023-08-08T15:10:44.385882Z",
     "shell.execute_reply.started": "2023-08-08T15:10:44.356406Z"
    }
   },
   "outputs": [
    {
     "data": {
      "text/plain": [
       "12346                Lovely Plastic Desk Chair\n",
       "5147         Anmol Cotton Collapsible Wardrobe\n",
       "7469      Varmora VCST0 Living & Bedroom Stool\n",
       "6387     Palakz Printed Foldable Storage Stool\n",
       "Name: product_name, dtype: object"
      ]
     },
     "execution_count": 65,
     "metadata": {},
     "output_type": "execute_result"
    }
   ],
   "source": [
    "get_recommendations3(\"FabHomeDecor Fabric Double Sofa Bed\",1,1000, 10).head(4)"
   ]
  },
  {
   "cell_type": "code",
   "execution_count": null,
   "metadata": {},
   "outputs": [],
   "source": []
  }
 ],
 "metadata": {
  "kernelspec": {
   "display_name": "Python 3 (ipykernel)",
   "language": "python",
   "name": "python3"
  },
  "language_info": {
   "codemirror_mode": {
    "name": "ipython",
    "version": 3
   },
   "file_extension": ".py",
   "mimetype": "text/x-python",
   "name": "python",
   "nbconvert_exporter": "python",
   "pygments_lexer": "ipython3",
   "version": "3.10.1"
  }
 },
 "nbformat": 4,
 "nbformat_minor": 4
}
